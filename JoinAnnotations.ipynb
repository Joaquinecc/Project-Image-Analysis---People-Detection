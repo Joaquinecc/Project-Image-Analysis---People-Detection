{
 "cells": [
  {
   "cell_type": "code",
   "execution_count": 1,
   "metadata": {},
   "outputs": [],
   "source": [
    "from glob import glob"
   ]
  },
  {
   "cell_type": "code",
   "execution_count": 2,
   "metadata": {},
   "outputs": [
    {
     "data": {
      "text/plain": [
       "['../dataset/annotations/labels_my-project-name_2024-11-25-04-14-06.csv',\n",
       " '../dataset/annotations/labels_my-project-name_2024-11-22-04-53-23.csv',\n",
       " '../dataset/annotations/labels_my-project-name_2024-11-25-04-27-24.csv',\n",
       " '../dataset/annotations/labels_my-project-name_2024-11-25-04-38-31.csv',\n",
       " '../dataset/annotations/labels_my-project-name_2024-11-21-06-20-54.csv',\n",
       " '../dataset/annotations/labels_my-project-name_2024-11-21-06-42-37.csv']"
      ]
     },
     "execution_count": 2,
     "metadata": {},
     "output_type": "execute_result"
    }
   ],
   "source": [
    "files = glob('../dataset/annotations/*.csv')\n",
    "files"
   ]
  },
  {
   "cell_type": "code",
   "execution_count": 3,
   "metadata": {},
   "outputs": [],
   "source": [
    "import csv"
   ]
  },
  {
   "cell_type": "code",
   "execution_count": 4,
   "metadata": {},
   "outputs": [],
   "source": [
    "data = dict()\n",
    "for file in files:\n",
    "    with open(file) as fp:\n",
    "        csv_reader = csv.reader(fp)\n",
    "        for line in csv_reader:\n",
    "            _, x, y, img, _, _ = line\n",
    "            if img not in data.keys():\n",
    "                data[img] = list()\n",
    "            data[img].append((int(x), int(y)))"
   ]
  },
  {
   "cell_type": "code",
   "execution_count": 5,
   "metadata": {},
   "outputs": [],
   "source": [
    "import json"
   ]
  },
  {
   "cell_type": "code",
   "execution_count": 6,
   "metadata": {},
   "outputs": [],
   "source": [
    "with open('../dataset/annotations/annotations.json', 'w') as fp:\n",
    "    json.dump(data, fp)"
   ]
  }
 ],
 "metadata": {
  "kernelspec": {
   "display_name": "venv_musi",
   "language": "python",
   "name": "python3"
  },
  "language_info": {
   "codemirror_mode": {
    "name": "ipython",
    "version": 3
   },
   "file_extension": ".py",
   "mimetype": "text/x-python",
   "name": "python",
   "nbconvert_exporter": "python",
   "pygments_lexer": "ipython3",
   "version": "3.11.10"
  }
 },
 "nbformat": 4,
 "nbformat_minor": 2
}
